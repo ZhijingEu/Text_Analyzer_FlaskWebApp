{
 "cells": [
  {
   "cell_type": "markdown",
   "metadata": {},
   "source": [
    "# Readme \n",
    "This notebook contains code to train and save a Doc2Vec model to be used for Clap Count Prediction and also to visualize the model outputs using TSNE (a dimensionality reduction method) "
   ]
  },
  {
   "cell_type": "code",
   "execution_count": 1,
   "metadata": {},
   "outputs": [],
   "source": [
    "import pandas as pd\n",
    "\n",
    "import numpy as np\n",
    "from numpy import save\n",
    "from numpy import load\n",
    "\n",
    "from scipy import spatial\n",
    "\n",
    "import gensim\n",
    "from nltk.corpus import stopwords\n",
    "from collections import namedtuple\n",
    "from gensim.models import doc2vec\n",
    "from gensim.models.doc2vec import Doc2Vec\n",
    "from gensim.models.doc2vec import Doc2Vec, TaggedDocument\n",
    "from nltk.tokenize import word_tokenize\n"
   ]
  },
  {
   "cell_type": "code",
   "execution_count": 2,
   "metadata": {},
   "outputs": [],
   "source": [
    "data_source = pd.read_excel('./ClapPredictionModels/Dataset.xlsx')\n",
    "data_source.drop(data_source.columns.difference(['ID','title','popularity_level','raw_text']), 1, inplace=True)\n",
    "#data_source=data_source.set_index('ID')"
   ]
  },
  {
   "cell_type": "code",
   "execution_count": 4,
   "metadata": {},
   "outputs": [
    {
     "data": {
      "text/html": [
       "<div>\n",
       "<style scoped>\n",
       "    .dataframe tbody tr th:only-of-type {\n",
       "        vertical-align: middle;\n",
       "    }\n",
       "\n",
       "    .dataframe tbody tr th {\n",
       "        vertical-align: top;\n",
       "    }\n",
       "\n",
       "    .dataframe thead th {\n",
       "        text-align: right;\n",
       "    }\n",
       "</style>\n",
       "<table border=\"1\" class=\"dataframe\">\n",
       "  <thead>\n",
       "    <tr style=\"text-align: right;\">\n",
       "      <th></th>\n",
       "      <th>ID</th>\n",
       "      <th>title</th>\n",
       "      <th>popularity_level</th>\n",
       "      <th>raw_text</th>\n",
       "    </tr>\n",
       "  </thead>\n",
       "  <tbody>\n",
       "    <tr>\n",
       "      <th>0</th>\n",
       "      <td>125</td>\n",
       "      <td>10 Common Software Architectural Patterns in a...</td>\n",
       "      <td>1. &gt;10,000 Claps</td>\n",
       "      <td>10 Common Software Architectural Patterns in a...</td>\n",
       "    </tr>\n",
       "    <tr>\n",
       "      <th>1</th>\n",
       "      <td>126</td>\n",
       "      <td>The 5 Clustering Algorithms Data Scientists Ne...</td>\n",
       "      <td>1. &gt;10,000 Claps</td>\n",
       "      <td>The 5 Clustering Algorithms Data Scientists Ne...</td>\n",
       "    </tr>\n",
       "    <tr>\n",
       "      <th>2</th>\n",
       "      <td>0</td>\n",
       "      <td>The best Mario Kart character according to dat...</td>\n",
       "      <td>1. &gt;10,000 Claps</td>\n",
       "      <td>The best Mario Kart character according to dat...</td>\n",
       "    </tr>\n",
       "    <tr>\n",
       "      <th>3</th>\n",
       "      <td>1</td>\n",
       "      <td>IQ is largely a pseudoscientific swindle | by ...</td>\n",
       "      <td>1. &gt;10,000 Claps</td>\n",
       "      <td>IQ is largely a pseudoscientific swindle | by ...</td>\n",
       "    </tr>\n",
       "    <tr>\n",
       "      <th>4</th>\n",
       "      <td>2</td>\n",
       "      <td>Learn Enough Docker to be Useful. Part 1: The ...</td>\n",
       "      <td>1. &gt;10,000 Claps</td>\n",
       "      <td>Learn Enough Docker to be Useful. Part 1: The ...</td>\n",
       "    </tr>\n",
       "  </tbody>\n",
       "</table>\n",
       "</div>"
      ],
      "text/plain": [
       "    ID                                              title  popularity_level  \\\n",
       "0  125  10 Common Software Architectural Patterns in a...  1. >10,000 Claps   \n",
       "1  126  The 5 Clustering Algorithms Data Scientists Ne...  1. >10,000 Claps   \n",
       "2    0  The best Mario Kart character according to dat...  1. >10,000 Claps   \n",
       "3    1  IQ is largely a pseudoscientific swindle | by ...  1. >10,000 Claps   \n",
       "4    2  Learn Enough Docker to be Useful. Part 1: The ...  1. >10,000 Claps   \n",
       "\n",
       "                                            raw_text  \n",
       "0  10 Common Software Architectural Patterns in a...  \n",
       "1  The 5 Clustering Algorithms Data Scientists Ne...  \n",
       "2  The best Mario Kart character according to dat...  \n",
       "3  IQ is largely a pseudoscientific swindle | by ...  \n",
       "4  Learn Enough Docker to be Useful. Part 1: The ...  "
      ]
     },
     "execution_count": 4,
     "metadata": {},
     "output_type": "execute_result"
    }
   ],
   "source": [
    "data_source.head(5)"
   ]
  },
  {
   "cell_type": "code",
   "execution_count": 5,
   "metadata": {},
   "outputs": [],
   "source": [
    "data = data_source[\"raw_text\"]\n",
    "tagged_data = [TaggedDocument(words=word_tokenize(_d.lower()), tags=[str(i)]) for i, _d in enumerate(data)]"
   ]
  },
  {
   "cell_type": "code",
   "execution_count": null,
   "metadata": {},
   "outputs": [],
   "source": [
    "# #Code adapted from https://medium.com/@mishra.thedeepak/doc2vec-simple-implementation-example-df2afbbfbad5\n",
    "# Uncomment only if you are re-training the model\n",
    "\n",
    "# max_epochs = 100\n",
    "# vec_size = 300\n",
    "# alpha = 0.025\n",
    "\n",
    "# Doc2VecModel = Doc2Vec(vector_size=vec_size,\n",
    "#                 alpha=alpha, \n",
    "#                 min_alpha=0.00025,\n",
    "#                 min_count=1,\n",
    "#                 dm =1)\n",
    "  \n",
    "# Doc2VecModel.build_vocab(tagged_data)"
   ]
  },
  {
   "cell_type": "code",
   "execution_count": null,
   "metadata": {},
   "outputs": [],
   "source": [
    "# Uncomment only if you are re-training the model\n",
    "\n",
    "# for epoch in range(max_epochs):\n",
    "#     print('iteration {0}'.format(epoch))\n",
    "#     Doc2VecModel.train(tagged_data,\n",
    "#                 total_examples=Doc2VecModel.corpus_count,\n",
    "#                 epochs=Doc2VecModel.iter)\n",
    "#     # decrease the learning rate\n",
    "#     Doc2VecModel.alpha -= 0.0002\n",
    "#     # fix the learning rate, no decay\n",
    "#     Doc2VecModel.min_alpha = model.alpha\n",
    "    \n",
    "# Doc2VecModel.save(\"Doc2Vec.model\")"
   ]
  },
  {
   "cell_type": "code",
   "execution_count": 6,
   "metadata": {},
   "outputs": [],
   "source": [
    "Doc2VecModel= Doc2Vec.load(\"./ClapPredictionModels/Doc2Vec.model\")"
   ]
  },
  {
   "cell_type": "code",
   "execution_count": 8,
   "metadata": {},
   "outputs": [],
   "source": [
    "# #Examples of how to use doc embeddings\n",
    "\n",
    "# #to encode doc_vec for new text\n",
    "# test_data = word_tokenize(\"I love chatbots. This is interesting isnt it\".lower())\n",
    "# vec = Doc2VecModel.infer_vector(test_data)\n",
    "\n",
    "# print(\"\")\n",
    "# # to find most similar doc using tags\n",
    "# similar_doc = Doc2VecModel.docvecs.most_similar([vec])\n",
    "# print(similar_doc)\n",
    "\n",
    "# print(\"\")\n",
    "# #to find most similar doc using tags\n",
    "# similar_doc = Doc2VecModel.docvecs.most_similar(178)\n",
    "# print(similar_doc)\n",
    "\n",
    "# print(\"\")\n",
    "# #to find vector of doc in training data using tags or in other words, printing the vector of document at index 1 in training data\n",
    "# print(Doc2VecModel.docvecs['1'])"
   ]
  },
  {
   "cell_type": "code",
   "execution_count": 9,
   "metadata": {},
   "outputs": [],
   "source": [
    "# Function to extract details of Top similar articles within the dataset\n",
    "def top_similar_articles(article_index_ref,no=3):\n",
    "    similar_doc = Doc2VecModel.docvecs.most_similar(article_index_ref)\n",
    "    print(\"Top Matches For\",data_source['title'][article_index_ref])\n",
    "    print(\"\")\n",
    "    for i in range(no):\n",
    "        print(\"Top #\",i+1,\" with Similarity\",round(similar_doc[i][1],2)*100,\"% : \",data_source['title'][int(similar_doc[i][0])])\n",
    "        print(\"\")\n",
    "    "
   ]
  },
  {
   "cell_type": "code",
   "execution_count": 10,
   "metadata": {},
   "outputs": [
    {
     "name": "stdout",
     "output_type": "stream",
     "text": [
      "Top Matches For Building An (Amateur) Machine Learning Web App & What I Learnt | by Zhijing Eu | Analytics Vidhya | Aug, 2020 | Medium\n",
      "\n",
      "Top # 1  with Similarity 42.0 % :  Building A Decision Support Tool For Capital Budgeting With Python Pulp | by Zhijing Eu | Analytics Vidhya | Sep, 2020 | Medium\n",
      "\n",
      "Top # 2  with Similarity 41.0 % :  Building & Publishing A MS PowerBI COVID-19 Analytics Dashboard Online | by Zhijing Eu | Analytics Vidhya | Aug, 2020 | Medium\n",
      "\n",
      "Top # 3  with Similarity 38.0 % :  Building A Whatsapp Chatbot With Python ChatterBot + Flask+ Ngrok+Twilio | by Zhijing Eu | Analytics Vidhya | Jul, 2020 | Medium\n",
      "\n",
      "Top # 4  with Similarity 36.0 % :  Top 8 “No-Code” Machine Learning Platforms You Should Use In 2020 | by Anupam Chugh | Sep, 2020 | Towards Data Science\n",
      "\n",
      "Top # 5  with Similarity 35.0 % :  How I Eat For Free in NYC Using Python, Automation, Artificial Intelligence, and Instagram | by Chris Buetti | Medium\n",
      "\n"
     ]
    }
   ],
   "source": [
    "top_similar_articles(195,no=5)"
   ]
  },
  {
   "cell_type": "code",
   "execution_count": 11,
   "metadata": {},
   "outputs": [],
   "source": [
    "#Extract Average Word Vector By Category No Of Claps\n",
    "# Index In Ref Dataset, Rating, No Of Claps\n",
    "# 0:21 , VH, >10000 claps\n",
    "# 22:36 , H, 5000-10000 claps\n",
    "# 37:65 , M, 1000-5000 claps\n",
    "# 66:147 , L, 100-1000 claps\n",
    "# 147-199 ,VL, <100 claps    \n",
    "\n",
    "v=[]\n",
    "for i in range(0,22): # Example for all articles with > 10,000 Claps\n",
    "    vec=Doc2VecModel.docvecs[i]\n",
    "    v.append(vec)\n",
    "\n",
    "Clap_Vector=np.average(v, axis=0)\n",
    "Clap_Vector\n",
    "\n",
    "\n",
    "save('VH_Claps_Vector.npy', Clap_Vector)"
   ]
  },
  {
   "cell_type": "code",
   "execution_count": 12,
   "metadata": {},
   "outputs": [
    {
     "data": {
      "text/plain": [
       "array([[1.   , 0.845, 0.847, 0.886, 0.875],\n",
       "       [0.845, 1.   , 0.842, 0.874, 0.865],\n",
       "       [0.847, 0.842, 1.   , 0.922, 0.896],\n",
       "       [0.886, 0.874, 0.922, 1.   , 0.93 ],\n",
       "       [0.875, 0.865, 0.896, 0.93 , 1.   ]])"
      ]
     },
     "execution_count": 12,
     "metadata": {},
     "output_type": "execute_result"
    }
   ],
   "source": [
    "#Building a 5x5 \"Similarity\" Matrix Between Average Word Vec By No Of Claps Category \n",
    "VH_Vec=load('./ClapPredictionModels/VH_Claps_Vector.npy')\n",
    "H_Vec=load('./ClapPredictionModels/H_Claps_Vector.npy')\n",
    "M_Vec=load('./ClapPredictionModels/M_Claps_Vector.npy')\n",
    "L_Vec=load('./ClapPredictionModels/L_Claps_Vector.npy')\n",
    "VL_Vec=load('./ClapPredictionModels/VL_Claps_Vector.npy')\n",
    "Vec_List=[VH_Vec,H_Vec,M_Vec,L_Vec,VL_Vec]\n",
    "similarity_matrix_VH_To_VL = [[(1-spatial.distance.cosine(x, y)) for x in Vec_List] for y in Vec_List]\n",
    "similarity_matrix_VH_To_VL=np.round(similarity_matrix_VH_To_VL,3)\n",
    "similarity_matrix_VH_To_VL     "
   ]
  },
  {
   "cell_type": "code",
   "execution_count": 13,
   "metadata": {},
   "outputs": [
    {
     "data": {
      "text/plain": [
       "array([[1.   , 0.911, 0.922],\n",
       "       [0.911, 1.   , 0.95 ],\n",
       "       [0.922, 0.95 , 1.   ]])"
      ]
     },
     "execution_count": 13,
     "metadata": {},
     "output_type": "execute_result"
    }
   ],
   "source": [
    "#Building a 3x3 \"Similarity\" Matrix Between Average Word Vec By No Of Claps Category \n",
    "MoreThan5k_Vec=load('./ClapPredictionModels/More_Than_5k_Claps_Vector.npy')\n",
    "Between500to5k_Vec=load('./ClapPredictionModels/500-5k_Claps_Vector.npy')\n",
    "LessThan500_Vec=load('./ClapPredictionModels/Less_Than_500_Claps_Vector.npy')\n",
    "Vec_List2=[MoreThan5k_Vec,Between500to5k_Vec,LessThan500_Vec]\n",
    "similarity_matrix_H_To_L= [[(1-spatial.distance.cosine(x, y)) for x in Vec_List2] for y in Vec_List2]\n",
    "similarity_matrix_H_To_L=np.round(similarity_matrix_H_To_L,3)\n",
    "similarity_matrix_H_To_L"
   ]
  },
  {
   "cell_type": "code",
   "execution_count": 14,
   "metadata": {},
   "outputs": [],
   "source": [
    "accuracy_table=[]\n",
    "for i in range(200): # Example for all articles with > 10,000 Claps\n",
    "    vec=Doc2VecModel.docvecs[i]\n",
    "    sim_VH=(1-spatial.distance.cosine(VH_Vec,vec))\n",
    "    sim_H=(1-spatial.distance.cosine(H_Vec,vec))\n",
    "    sim_M=(1-spatial.distance.cosine(M_Vec,vec))\n",
    "    sim_L=(1-spatial.distance.cosine(L_Vec,vec))\n",
    "    sim_VL=(1-spatial.distance.cosine(VL_Vec,vec))             \n",
    "    if (sim_VH > sim_H) and (sim_VH > sim_M) and (sim_VH > sim_L) and (sim_VH > sim_VL) :\n",
    "        Predicted=\"1. >10,000 Claps\"\n",
    "    elif (sim_H > sim_VH) and (sim_H > sim_M) and (sim_H > sim_L) and (sim_H > sim_VL) :\n",
    "        Predicted=\"2. 5,000-10,000 Claps\"\n",
    "    elif (sim_M > sim_VH) and (sim_M > sim_H) and (sim_M > sim_L) and (sim_M > sim_VL) :\n",
    "        Predicted=\"3. 1,000-5,000 Claps\"\n",
    "    elif (sim_L > sim_VH) and (sim_L > sim_H) and (sim_L > sim_M) and (sim_L > sim_VL) :\n",
    "        Predicted=\"4. 100-1,000 Claps\"\n",
    "    elif (sim_VL > sim_VH) and (sim_VL > sim_H) and (sim_VL > sim_M) and (sim_VL > sim_L) :\n",
    "        Predicted=\"5. < 100 Claps\"\n",
    "    Actual=data_source['popularity_level'][i]\n",
    "    accuracy_table.append([i,sim_VH,sim_H,sim_M,sim_L,sim_VL,Predicted,Actual])\n",
    "                "
   ]
  },
  {
   "cell_type": "code",
   "execution_count": 15,
   "metadata": {},
   "outputs": [],
   "source": [
    "accuracy_table = pd.DataFrame(accuracy_table)\n",
    "accuracy_table.columns=[\"ID\",\"VH\",\"H\",\"M\",\"L\",\"VL\",\"Predicted\",\"Actual\"]"
   ]
  },
  {
   "cell_type": "code",
   "execution_count": 16,
   "metadata": {},
   "outputs": [],
   "source": [
    "accuracy_table[\"Match\"]=accuracy_table.apply(lambda x : True if x['Predicted'] == x['Actual'] else False , axis=1)"
   ]
  },
  {
   "cell_type": "code",
   "execution_count": 17,
   "metadata": {},
   "outputs": [
    {
     "data": {
      "text/html": [
       "<div>\n",
       "<style scoped>\n",
       "    .dataframe tbody tr th:only-of-type {\n",
       "        vertical-align: middle;\n",
       "    }\n",
       "\n",
       "    .dataframe tbody tr th {\n",
       "        vertical-align: top;\n",
       "    }\n",
       "\n",
       "    .dataframe thead th {\n",
       "        text-align: right;\n",
       "    }\n",
       "</style>\n",
       "<table border=\"1\" class=\"dataframe\">\n",
       "  <thead>\n",
       "    <tr style=\"text-align: right;\">\n",
       "      <th></th>\n",
       "      <th>ID</th>\n",
       "      <th>VH</th>\n",
       "      <th>H</th>\n",
       "      <th>M</th>\n",
       "      <th>L</th>\n",
       "      <th>VL</th>\n",
       "      <th>Predicted</th>\n",
       "      <th>Actual</th>\n",
       "      <th>Match</th>\n",
       "    </tr>\n",
       "  </thead>\n",
       "  <tbody>\n",
       "    <tr>\n",
       "      <th>55</th>\n",
       "      <td>55</td>\n",
       "      <td>0.483655</td>\n",
       "      <td>0.408591</td>\n",
       "      <td>0.532548</td>\n",
       "      <td>0.539582</td>\n",
       "      <td>0.473495</td>\n",
       "      <td>4. 100-1,000 Claps</td>\n",
       "      <td>3.1,000-5,000 Claps</td>\n",
       "      <td>False</td>\n",
       "    </tr>\n",
       "    <tr>\n",
       "      <th>56</th>\n",
       "      <td>56</td>\n",
       "      <td>0.451561</td>\n",
       "      <td>0.405376</td>\n",
       "      <td>0.516081</td>\n",
       "      <td>0.478806</td>\n",
       "      <td>0.433556</td>\n",
       "      <td>3. 1,000-5,000 Claps</td>\n",
       "      <td>3.1,000-5,000 Claps</td>\n",
       "      <td>False</td>\n",
       "    </tr>\n",
       "    <tr>\n",
       "      <th>57</th>\n",
       "      <td>57</td>\n",
       "      <td>0.467660</td>\n",
       "      <td>0.469818</td>\n",
       "      <td>0.523060</td>\n",
       "      <td>0.459397</td>\n",
       "      <td>0.459993</td>\n",
       "      <td>3. 1,000-5,000 Claps</td>\n",
       "      <td>3.1,000-5,000 Claps</td>\n",
       "      <td>False</td>\n",
       "    </tr>\n",
       "    <tr>\n",
       "      <th>58</th>\n",
       "      <td>58</td>\n",
       "      <td>0.502466</td>\n",
       "      <td>0.427626</td>\n",
       "      <td>0.541177</td>\n",
       "      <td>0.497819</td>\n",
       "      <td>0.517918</td>\n",
       "      <td>3. 1,000-5,000 Claps</td>\n",
       "      <td>3.1,000-5,000 Claps</td>\n",
       "      <td>False</td>\n",
       "    </tr>\n",
       "    <tr>\n",
       "      <th>59</th>\n",
       "      <td>59</td>\n",
       "      <td>0.456815</td>\n",
       "      <td>0.555105</td>\n",
       "      <td>0.529772</td>\n",
       "      <td>0.504654</td>\n",
       "      <td>0.482307</td>\n",
       "      <td>2. 5,000-10,000 Claps</td>\n",
       "      <td>3.1,000-5,000 Claps</td>\n",
       "      <td>False</td>\n",
       "    </tr>\n",
       "    <tr>\n",
       "      <th>60</th>\n",
       "      <td>60</td>\n",
       "      <td>0.417521</td>\n",
       "      <td>0.364485</td>\n",
       "      <td>0.464030</td>\n",
       "      <td>0.402036</td>\n",
       "      <td>0.419191</td>\n",
       "      <td>3. 1,000-5,000 Claps</td>\n",
       "      <td>3.1,000-5,000 Claps</td>\n",
       "      <td>False</td>\n",
       "    </tr>\n",
       "    <tr>\n",
       "      <th>61</th>\n",
       "      <td>61</td>\n",
       "      <td>0.421850</td>\n",
       "      <td>0.418311</td>\n",
       "      <td>0.524458</td>\n",
       "      <td>0.491556</td>\n",
       "      <td>0.452698</td>\n",
       "      <td>3. 1,000-5,000 Claps</td>\n",
       "      <td>3.1,000-5,000 Claps</td>\n",
       "      <td>False</td>\n",
       "    </tr>\n",
       "    <tr>\n",
       "      <th>62</th>\n",
       "      <td>62</td>\n",
       "      <td>0.393945</td>\n",
       "      <td>0.408323</td>\n",
       "      <td>0.513878</td>\n",
       "      <td>0.460163</td>\n",
       "      <td>0.449075</td>\n",
       "      <td>3. 1,000-5,000 Claps</td>\n",
       "      <td>3.1,000-5,000 Claps</td>\n",
       "      <td>False</td>\n",
       "    </tr>\n",
       "    <tr>\n",
       "      <th>63</th>\n",
       "      <td>63</td>\n",
       "      <td>0.468069</td>\n",
       "      <td>0.469815</td>\n",
       "      <td>0.530657</td>\n",
       "      <td>0.480686</td>\n",
       "      <td>0.496636</td>\n",
       "      <td>3. 1,000-5,000 Claps</td>\n",
       "      <td>3.1,000-5,000 Claps</td>\n",
       "      <td>False</td>\n",
       "    </tr>\n",
       "    <tr>\n",
       "      <th>64</th>\n",
       "      <td>64</td>\n",
       "      <td>0.371074</td>\n",
       "      <td>0.388214</td>\n",
       "      <td>0.515310</td>\n",
       "      <td>0.456073</td>\n",
       "      <td>0.462893</td>\n",
       "      <td>3. 1,000-5,000 Claps</td>\n",
       "      <td>3.1,000-5,000 Claps</td>\n",
       "      <td>False</td>\n",
       "    </tr>\n",
       "    <tr>\n",
       "      <th>65</th>\n",
       "      <td>65</td>\n",
       "      <td>0.447119</td>\n",
       "      <td>0.424007</td>\n",
       "      <td>0.497348</td>\n",
       "      <td>0.461755</td>\n",
       "      <td>0.475770</td>\n",
       "      <td>3. 1,000-5,000 Claps</td>\n",
       "      <td>3.1,000-5,000 Claps</td>\n",
       "      <td>False</td>\n",
       "    </tr>\n",
       "    <tr>\n",
       "      <th>66</th>\n",
       "      <td>66</td>\n",
       "      <td>0.426098</td>\n",
       "      <td>0.472832</td>\n",
       "      <td>0.423261</td>\n",
       "      <td>0.472024</td>\n",
       "      <td>0.450446</td>\n",
       "      <td>2. 5,000-10,000 Claps</td>\n",
       "      <td>4. 100-1,000 Claps</td>\n",
       "      <td>False</td>\n",
       "    </tr>\n",
       "  </tbody>\n",
       "</table>\n",
       "</div>"
      ],
      "text/plain": [
       "    ID        VH         H         M         L        VL  \\\n",
       "55  55  0.483655  0.408591  0.532548  0.539582  0.473495   \n",
       "56  56  0.451561  0.405376  0.516081  0.478806  0.433556   \n",
       "57  57  0.467660  0.469818  0.523060  0.459397  0.459993   \n",
       "58  58  0.502466  0.427626  0.541177  0.497819  0.517918   \n",
       "59  59  0.456815  0.555105  0.529772  0.504654  0.482307   \n",
       "60  60  0.417521  0.364485  0.464030  0.402036  0.419191   \n",
       "61  61  0.421850  0.418311  0.524458  0.491556  0.452698   \n",
       "62  62  0.393945  0.408323  0.513878  0.460163  0.449075   \n",
       "63  63  0.468069  0.469815  0.530657  0.480686  0.496636   \n",
       "64  64  0.371074  0.388214  0.515310  0.456073  0.462893   \n",
       "65  65  0.447119  0.424007  0.497348  0.461755  0.475770   \n",
       "66  66  0.426098  0.472832  0.423261  0.472024  0.450446   \n",
       "\n",
       "                Predicted               Actual  Match  \n",
       "55     4. 100-1,000 Claps  3.1,000-5,000 Claps  False  \n",
       "56   3. 1,000-5,000 Claps  3.1,000-5,000 Claps  False  \n",
       "57   3. 1,000-5,000 Claps  3.1,000-5,000 Claps  False  \n",
       "58   3. 1,000-5,000 Claps  3.1,000-5,000 Claps  False  \n",
       "59  2. 5,000-10,000 Claps  3.1,000-5,000 Claps  False  \n",
       "60   3. 1,000-5,000 Claps  3.1,000-5,000 Claps  False  \n",
       "61   3. 1,000-5,000 Claps  3.1,000-5,000 Claps  False  \n",
       "62   3. 1,000-5,000 Claps  3.1,000-5,000 Claps  False  \n",
       "63   3. 1,000-5,000 Claps  3.1,000-5,000 Claps  False  \n",
       "64   3. 1,000-5,000 Claps  3.1,000-5,000 Claps  False  \n",
       "65   3. 1,000-5,000 Claps  3.1,000-5,000 Claps  False  \n",
       "66  2. 5,000-10,000 Claps   4. 100-1,000 Claps  False  "
      ]
     },
     "execution_count": 17,
     "metadata": {},
     "output_type": "execute_result"
    }
   ],
   "source": [
    "#To view how the dataframe looks\n",
    "accuracy_table[55:67]"
   ]
  },
  {
   "cell_type": "code",
   "execution_count": 19,
   "metadata": {},
   "outputs": [
    {
     "data": {
      "text/plain": [
       "<AxesSubplot:>"
      ]
     },
     "execution_count": 19,
     "metadata": {},
     "output_type": "execute_result"
    },
    {
     "data": {
      "image/png": "[encoded data removed]",
      "text/plain": [
       "<Figure size 432x288 with 1 Axes>"
      ]
     },
     "metadata": {
      "needs_background": "light"
     },
     "output_type": "display_data"
    }
   ],
   "source": [
    "accuracy_table['Match'].value_counts().sort_values().plot(kind = 'barh')"
   ]
  },
  {
   "cell_type": "markdown",
   "metadata": {},
   "source": [
    "When tested against \"average\" vectors by Clap Count Category , 80% of the 200 articles were correctly predicted"
   ]
  },
  {
   "cell_type": "code",
   "execution_count": 20,
   "metadata": {},
   "outputs": [
    {
     "data": {
      "text/plain": [
       "80.0"
      ]
     },
     "execution_count": 20,
     "metadata": {},
     "output_type": "execute_result"
    }
   ],
   "source": [
    "#i.e 160/(160+40)=80% Accuracy ?\n",
    "accuracy_of_doc2vec=100*accuracy_table['Match'].value_counts()[1]/(accuracy_table['Match'].value_counts()[0]+accuracy_table['Match'].value_counts()[1])\n",
    "accuracy_of_doc2vec"
   ]
  },
  {
   "cell_type": "code",
   "execution_count": 21,
   "metadata": {},
   "outputs": [],
   "source": [
    "#Visualising the Doc2Vec in 2D using TSNE\n",
    "\n",
    "ListOfLargeVectors=[]\n",
    "for i in range(200):\n",
    "    ListOfLargeVectors.append(Doc2VecModel.docvecs[i])"
   ]
  },
  {
   "cell_type": "code",
   "execution_count": 22,
   "metadata": {},
   "outputs": [],
   "source": [
    "LabelForVectors=data_source[\"popularity_level\"].tolist()"
   ]
  },
  {
   "cell_type": "code",
   "execution_count": 23,
   "metadata": {},
   "outputs": [],
   "source": [
    "from sklearn.manifold import TSNE \n",
    "tsne_model = TSNE(n_components=2, random_state=0)\n",
    "tsne_data = tsne_model.fit_transform(ListOfLargeVectors)\n",
    "tsne_data = np.vstack((tsne_data.T, LabelForVectors)).T\n",
    "tsne_df = pd.DataFrame(data=tsne_data, columns=(\"Dim_1\", \"Dim_2\", \"popularity_level\"))"
   ]
  },
  {
   "cell_type": "code",
   "execution_count": 24,
   "metadata": {},
   "outputs": [],
   "source": [
    "tsne_df['Dim_1'] = pd.to_numeric(tsne_df['Dim_1'],errors='coerce')\n",
    "tsne_df['Dim_2'] = pd.to_numeric(tsne_df['Dim_2'],errors='coerce')"
   ]
  },
  {
   "cell_type": "code",
   "execution_count": 25,
   "metadata": {},
   "outputs": [
    {
     "data": {
      "text/plain": [
       "(-75.0, 100.0)"
      ]
     },
     "execution_count": 25,
     "metadata": {},
     "output_type": "execute_result"
    },
    {
     "data": {
      "image/png": "[encoded data removed]",
      "text/plain": [
       "<Figure size 432x288 with 1 Axes>"
      ]
     },
     "metadata": {
      "needs_background": "light"
     },
     "output_type": "display_data"
    }
   ],
   "source": [
    "ax1 = tsne_df[tsne_df[\"popularity_level\"]==\"1. >10,000 Claps\"].plot(kind='scatter', x='Dim_1', y='Dim_2', color='r',label=\"VH->10k Claps\")    \n",
    "ax2 = tsne_df[tsne_df[\"popularity_level\"]==\"2. 5,000-10,000 Claps\"].plot(kind='scatter', x='Dim_1', y='Dim_2', color='g',label=\"H-5-10k Claps\", ax=ax1)    \n",
    "ax3 = tsne_df[tsne_df[\"popularity_level\"]==\"3.1,000-5,000 Claps\"].plot(kind='scatter', x='Dim_1', y='Dim_2', color='b',label=\"M-1-5k Claps\", ax=ax1)\n",
    "ax4 = tsne_df[tsne_df[\"popularity_level\"]==\"4. 100-1,000 Claps\"].plot(kind='scatter', x='Dim_1', y='Dim_2', color='c',label=\"L-0.1-1k Claps\", ax=ax1) \n",
    "ax5 = tsne_df[tsne_df[\"popularity_level\"]==\"5. < 100 Claps\"].plot(kind='scatter', x='Dim_1', y='Dim_2', color='m',label=\"VL-<0.1k Claps\", ax=ax1)\n",
    "ax1.set_xlim([-175,100])\n",
    "ax1.set_ylim([-75,100])"
   ]
  },
  {
   "cell_type": "markdown",
   "metadata": {},
   "source": [
    "When the 300 dimension word vector is \"projected\" down to 2 dimensions, there is a weak pattern where the higher clap articles tend to cluster towards the centre (purple and blue dots tend to be further out)"
   ]
  },
  {
   "cell_type": "code",
   "execution_count": null,
   "metadata": {},
   "outputs": [],
   "source": []
  }
 ],
 "metadata": {
  "kernelspec": {
   "display_name": "Python 3",
   "language": "python",
   "name": "python3"
  },
  "language_info": {
   "codemirror_mode": {
    "name": "ipython",
    "version": 3
   },
   "file_extension": ".py",
   "mimetype": "text/x-python",
   "name": "python",
   "nbconvert_exporter": "python",
   "pygments_lexer": "ipython3",
   "version": "3.6.8"
  }
 },
 "nbformat": 4,
 "nbformat_minor": 2
}
